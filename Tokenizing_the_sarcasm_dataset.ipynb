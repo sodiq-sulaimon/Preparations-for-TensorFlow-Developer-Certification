{
  "nbformat": 4,
  "nbformat_minor": 0,
  "metadata": {
    "colab": {
      "provenance": [],
      "authorship_tag": "ABX9TyM7sZaZiJMSq75+tvyZwd5y",
      "include_colab_link": true
    },
    "kernelspec": {
      "name": "python3",
      "display_name": "Python 3"
    },
    "language_info": {
      "name": "python"
    }
  },
  "cells": [
    {
      "cell_type": "markdown",
      "metadata": {
        "id": "view-in-github",
        "colab_type": "text"
      },
      "source": [
        "<a href=\"https://colab.research.google.com/github/sodiq-sulaimon/Preparations-for-TensorFlow-Developer-Certification/blob/NLP/Tokenizing_the_sarcasm_dataset.ipynb\" target=\"_parent\"><img src=\"https://colab.research.google.com/assets/colab-badge.svg\" alt=\"Open In Colab\"/></a>"
      ]
    },
    {
      "cell_type": "markdown",
      "source": [
        "# Tokening the Sarcasm dataset"
      ],
      "metadata": {
        "id": "vBWj8_e2f1eS"
      }
    },
    {
      "cell_type": "markdown",
      "source": [
        "Download and inspect the dataset"
      ],
      "metadata": {
        "id": "8wNeBM6QgFCt"
      }
    },
    {
      "cell_type": "code",
      "execution_count": 1,
      "metadata": {
        "colab": {
          "base_uri": "https://localhost:8080/"
        },
        "id": "nCe32hBib9Xw",
        "outputId": "22730ffb-f52b-4489-a84e-c6e09ee87c9f"
      },
      "outputs": [
        {
          "output_type": "stream",
          "name": "stdout",
          "text": [
            "--2023-10-22 17:49:04--  https://storage.googleapis.com/tensorflow-1-public/course3/sarcasm.json\n",
            "Resolving storage.googleapis.com (storage.googleapis.com)... 172.217.204.207, 172.253.123.207, 142.250.98.207, ...\n",
            "Connecting to storage.googleapis.com (storage.googleapis.com)|172.217.204.207|:443... connected.\n",
            "HTTP request sent, awaiting response... 200 OK\n",
            "Length: 5643545 (5.4M) [application/json]\n",
            "Saving to: ‘sarcasm.json’\n",
            "\n",
            "\rsarcasm.json          0%[                    ]       0  --.-KB/s               \rsarcasm.json        100%[===================>]   5.38M  --.-KB/s    in 0.04s   \n",
            "\n",
            "2023-10-22 17:49:04 (132 MB/s) - ‘sarcasm.json’ saved [5643545/5643545]\n",
            "\n"
          ]
        }
      ],
      "source": [
        "# Download the dataset\n",
        "!wget https://storage.googleapis.com/tensorflow-1-public/course3/sarcasm.json"
      ]
    },
    {
      "cell_type": "code",
      "source": [
        "import json\n",
        "\n",
        "with open('./sarcasm.json', 'r') as f:\n",
        "  news_data = json.load(f)\n"
      ],
      "metadata": {
        "id": "QPc6zDiqgpO_"
      },
      "execution_count": 2,
      "outputs": []
    },
    {
      "cell_type": "code",
      "source": [
        "# Inspect the data\n",
        "print(len(news_data))\n",
        "print(news_data[0])\n"
      ],
      "metadata": {
        "colab": {
          "base_uri": "https://localhost:8080/"
        },
        "id": "nFVyUUXmhKcE",
        "outputId": "d7d179af-9f43-40a7-a058-143d4dbbd52c"
      },
      "execution_count": 12,
      "outputs": [
        {
          "output_type": "stream",
          "name": "stdout",
          "text": [
            "26709\n",
            "{'article_link': 'https://www.huffingtonpost.com/entry/versace-black-code_us_5861fbefe4b0de3a08f600d5', 'headline': \"former versace store clerk sues over secret 'black code' for minority shoppers\", 'is_sarcastic': 0}\n"
          ]
        }
      ]
    },
    {
      "cell_type": "code",
      "source": [
        "sentences = []\n",
        "labels = []\n",
        "urls = []\n",
        "\n",
        "for line in news_data:\n",
        "  sentences.append(line['headline'])\n",
        "  labels.append(line['is_sarcastic'])\n",
        "  urls.append(line[\"article_link\"])"
      ],
      "metadata": {
        "id": "6wpyus0ZhL70"
      },
      "execution_count": 13,
      "outputs": []
    },
    {
      "cell_type": "code",
      "source": [
        "len(sentences)"
      ],
      "metadata": {
        "colab": {
          "base_uri": "https://localhost:8080/"
        },
        "id": "UmPT1n-9heUN",
        "outputId": "84b34f81-5885-4dc3-c1c3-3ff790763bad"
      },
      "execution_count": 17,
      "outputs": [
        {
          "output_type": "execute_result",
          "data": {
            "text/plain": [
              "26709"
            ]
          },
          "metadata": {},
          "execution_count": 17
        }
      ]
    },
    {
      "cell_type": "markdown",
      "source": [
        "Preprocess the headlines"
      ],
      "metadata": {
        "id": "9V76lod4j5BB"
      }
    },
    {
      "cell_type": "code",
      "source": [
        "from tensorflow.keras.preprocessing.text import Tokenizer\n",
        "from tensorflow.keras.preprocessing.sequence import pad_sequences\n",
        "\n",
        "tokenizer = Tokenizer(oov_token='<OOV>')\n",
        "tokenizer.fit_on_texts(sentences)\n",
        "word_index = tokenizer.word_index\n",
        "print(f\"Length of word index: {len(word_index)}\")\n",
        "\n",
        "sequences = tokenizer.texts_to_sequences(sentences)\n",
        "print(f\"\\nLength of sequences: {len(sequences)}\")\n",
        "\n",
        "padded_sequences = pad_sequences(sequences, padding='post')\n",
        "print(f\"\\nShape of padded sequence: {padded_sequences.shape}\")\n"
      ],
      "metadata": {
        "colab": {
          "base_uri": "https://localhost:8080/"
        },
        "id": "o26E_73pjUEd",
        "outputId": "0f8122e3-a61c-4d46-98c8-cb429c5cf6e1"
      },
      "execution_count": 52,
      "outputs": [
        {
          "output_type": "stream",
          "name": "stdout",
          "text": [
            "Length of word index: 29657\n",
            "\n",
            "Length of sequences: 26709\n",
            "\n",
            "Shape of padded sequence: (26709, 40)\n"
          ]
        }
      ]
    },
    {
      "cell_type": "code",
      "source": [],
      "metadata": {
        "id": "VzmCcTVgmhU7"
      },
      "execution_count": null,
      "outputs": []
    }
  ]
}