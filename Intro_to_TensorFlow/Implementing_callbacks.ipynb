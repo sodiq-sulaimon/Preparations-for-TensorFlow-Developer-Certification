{
  "nbformat": 4,
  "nbformat_minor": 0,
  "metadata": {
    "colab": {
      "provenance": [],
      "authorship_tag": "ABX9TyNxmHq6azmZzGU5wjcY7x2H",
      "include_colab_link": true
    },
    "kernelspec": {
      "name": "python3",
      "display_name": "Python 3"
    },
    "language_info": {
      "name": "python"
    }
  },
  "cells": [
    {
      "cell_type": "markdown",
      "metadata": {
        "id": "view-in-github",
        "colab_type": "text"
      },
      "source": [
        "<a href=\"https://colab.research.google.com/github/sodiq-sulaimon/Preparations-for-TensorFlow-Developer-Certification/blob/main/Implementing_callbacks.ipynb\" target=\"_parent\"><img src=\"https://colab.research.google.com/assets/colab-badge.svg\" alt=\"Open In Colab\"/></a>"
      ]
    },
    {
      "cell_type": "code",
      "execution_count": 1,
      "metadata": {
        "colab": {
          "base_uri": "https://localhost:8080/"
        },
        "id": "wjs8w9IQSgyl",
        "outputId": "94d0115a-c2ee-4ff3-8a51-d5161e937e4d"
      },
      "outputs": [
        {
          "output_type": "stream",
          "name": "stdout",
          "text": [
            "Downloading data from https://storage.googleapis.com/tensorflow/tf-keras-datasets/train-labels-idx1-ubyte.gz\n",
            "29515/29515 [==============================] - 0s 0us/step\n",
            "Downloading data from https://storage.googleapis.com/tensorflow/tf-keras-datasets/train-images-idx3-ubyte.gz\n",
            "26421880/26421880 [==============================] - 0s 0us/step\n",
            "Downloading data from https://storage.googleapis.com/tensorflow/tf-keras-datasets/t10k-labels-idx1-ubyte.gz\n",
            "5148/5148 [==============================] - 0s 0us/step\n",
            "Downloading data from https://storage.googleapis.com/tensorflow/tf-keras-datasets/t10k-images-idx3-ubyte.gz\n",
            "4422102/4422102 [==============================] - 0s 0us/step\n"
          ]
        }
      ],
      "source": [
        "# Load the fashion MNIST dataset\n",
        "import tensorflow as tf\n",
        "\n",
        "# Instantiate the dataset API\n",
        "fmnist = tf.keras.datasets.fashion_mnist\n",
        "\n",
        "# Load the dataset\n",
        "(train_images, train_labels), (test_images, test_labels) = fmnist.load_data()\n"
      ]
    },
    {
      "cell_type": "code",
      "source": [
        "train_images.shape"
      ],
      "metadata": {
        "colab": {
          "base_uri": "https://localhost:8080/"
        },
        "id": "5chJvqWUTFsf",
        "outputId": "ddaa906d-e8b1-4e26-a893-78b918742c3c"
      },
      "execution_count": 3,
      "outputs": [
        {
          "output_type": "execute_result",
          "data": {
            "text/plain": [
              "(60000, 28, 28)"
            ]
          },
          "metadata": {},
          "execution_count": 3
        }
      ]
    },
    {
      "cell_type": "code",
      "source": [
        "# Normalize the dataset\n",
        "train_images = train_images / 255.0\n",
        "test_images = test_images / 255.0"
      ],
      "metadata": {
        "id": "3X9z5aLWTLIl"
      },
      "execution_count": 4,
      "outputs": []
    },
    {
      "cell_type": "code",
      "source": [
        "# Create a callback class that inherits from tf.keras.callbacks.Callback base class\n",
        "# define a method that track loss on each training epoch\n",
        "class myCallback(tf.keras.callbacks.Callback):\n",
        "  def on_epoch_end(self, epoch, logs={}):\n",
        "    '''\n",
        "    Stops the training when the loss falls the specified value\n",
        "\n",
        "    Args:\n",
        "      epoch (int) - index of epoch\n",
        "      logs (dict) - metric results from the training epoch\n",
        "    '''\n",
        "    # check the loss\n",
        "    if (logs.get('loss') < 4.0):\n",
        "      # stop if set threshold is met\n",
        "      print(\"\\nThe loss is below 0.4. Stopping training\")\n",
        "      self.model.stop_training = True"
      ],
      "metadata": {
        "id": "eTtjv2bxTrsO"
      },
      "execution_count": 14,
      "outputs": []
    },
    {
      "cell_type": "code",
      "source": [
        "# Instantiate my callback class\n",
        "callbacks = myCallback()"
      ],
      "metadata": {
        "id": "JVs0-QpPV5Su"
      },
      "execution_count": 24,
      "outputs": []
    },
    {
      "cell_type": "code",
      "source": [
        "# Define the model\n",
        "model = tf.keras.models.Sequential([\n",
        "    tf.keras.layers.Flatten(input_shape=(28, 28)),\n",
        "    tf.keras.layers.Dense(128, activation=\"relu\"),\n",
        "    tf.keras.layers.Dense(10, activation=\"softmax\")\n",
        "])\n",
        "\n",
        "# Compile the model\n",
        "model.compile(optimizer=\"Adam\", loss=\"sparse_categorical_crossentropy\",\n",
        "              metrics=[\"accuracy\"])"
      ],
      "metadata": {
        "id": "C7okwtw5WDFc"
      },
      "execution_count": 25,
      "outputs": []
    },
    {
      "cell_type": "code",
      "source": [
        "# Train the model with the callback\n",
        "model.fit(train_images, train_labels, epochs=10, callbacks=callbacks)"
      ],
      "metadata": {
        "colab": {
          "base_uri": "https://localhost:8080/"
        },
        "id": "wrdzQ1DBXAE5",
        "outputId": "2a8fe0a9-35c7-43e7-e1e3-376547161829"
      },
      "execution_count": 26,
      "outputs": [
        {
          "output_type": "stream",
          "name": "stdout",
          "text": [
            "Epoch 1/10\n",
            "1864/1875 [============================>.] - ETA: 0s - loss: 0.4962 - accuracy: 0.8262\n",
            "The loss is below 0.4. Stopping training\n",
            "1875/1875 [==============================] - 10s 5ms/step - loss: 0.4955 - accuracy: 0.8264\n"
          ]
        },
        {
          "output_type": "execute_result",
          "data": {
            "text/plain": [
              "<keras.src.callbacks.History at 0x780730a39030>"
            ]
          },
          "metadata": {},
          "execution_count": 26
        }
      ]
    },
    {
      "cell_type": "code",
      "source": [
        "# # Experimenting with accuracy\n",
        "# class mycallback2(tf.keras.callbacks.Callback):\n",
        "#   def track_accuracy(self, epochs, logs={}):\n",
        "#     if logs.get(\"accuracy\") < 60:\n",
        "#       print(\"\\n Accuracy is less than 60. Stopping training.\")\n",
        "#       self.model.stop_training = True"
      ],
      "metadata": {
        "id": "rBzcWxgtXU8H"
      },
      "execution_count": 20,
      "outputs": []
    },
    {
      "cell_type": "code",
      "source": [],
      "metadata": {
        "id": "gAlFYzLPZLvM"
      },
      "execution_count": null,
      "outputs": []
    }
  ]
}
