{
  "nbformat": 4,
  "nbformat_minor": 0,
  "metadata": {
    "colab": {
      "provenance": [],
      "gpuType": "T4",
      "authorship_tag": "ABX9TyPFxBus55a35bwSj0sQDiGp",
      "include_colab_link": true
    },
    "kernelspec": {
      "name": "python3",
      "display_name": "Python 3"
    },
    "language_info": {
      "name": "python"
    },
    "accelerator": "GPU"
  },
  "cells": [
    {
      "cell_type": "markdown",
      "metadata": {
        "id": "view-in-github",
        "colab_type": "text"
      },
      "source": [
        "<a href=\"https://colab.research.google.com/github/sodiq-sulaimon/Preparations-for-TensorFlow-Developer-Certification/blob/main/Time_Series/Preparing_Time_Series_Features_and_Labels.ipynb\" target=\"_parent\"><img src=\"https://colab.research.google.com/assets/colab-badge.svg\" alt=\"Open In Colab\"/></a>"
      ]
    },
    {
      "cell_type": "code",
      "execution_count": 1,
      "metadata": {
        "id": "BsLlwoZ22F_V"
      },
      "outputs": [],
      "source": [
        "import tensorflow as tf"
      ]
    },
    {
      "cell_type": "markdown",
      "source": [
        "### Create a Simple dataset"
      ],
      "metadata": {
        "id": "6IIluy3p3Y2L"
      }
    },
    {
      "cell_type": "code",
      "source": [
        "dataset = tf.data.Dataset.range(10)\n",
        "\n",
        "for val in dataset:\n",
        "  print(val.numpy())"
      ],
      "metadata": {
        "colab": {
          "base_uri": "https://localhost:8080/"
        },
        "id": "Km0XEkU43UYx",
        "outputId": "b4ed83cb-0313-41c9-d3be-9b0b43ca6901"
      },
      "execution_count": 2,
      "outputs": [
        {
          "output_type": "stream",
          "name": "stdout",
          "text": [
            "0\n",
            "1\n",
            "2\n",
            "3\n",
            "4\n",
            "5\n",
            "6\n",
            "7\n",
            "8\n",
            "9\n"
          ]
        }
      ]
    },
    {
      "cell_type": "markdown",
      "source": [
        "### Windowing the data"
      ],
      "metadata": {
        "id": "2FROePIM4XCZ"
      }
    },
    {
      "cell_type": "code",
      "source": [
        "dataset = tf.data.Dataset.range(10)\n",
        "window_dataset = dataset.window(size=5, shift=1)\n",
        "\n",
        "for window_data in window_dataset:\n",
        "\n",
        "  print([val.numpy() for val in window_data])"
      ],
      "metadata": {
        "colab": {
          "base_uri": "https://localhost:8080/"
        },
        "id": "LnQmuMes35k_",
        "outputId": "cec89a72-33e6-4088-acbe-e7f3f420c7fa"
      },
      "execution_count": 3,
      "outputs": [
        {
          "output_type": "stream",
          "name": "stdout",
          "text": [
            "[0, 1, 2, 3, 4]\n",
            "[1, 2, 3, 4, 5]\n",
            "[2, 3, 4, 5, 6]\n",
            "[3, 4, 5, 6, 7]\n",
            "[4, 5, 6, 7, 8]\n",
            "[5, 6, 7, 8, 9]\n",
            "[6, 7, 8, 9]\n",
            "[7, 8, 9]\n",
            "[8, 9]\n",
            "[9]\n"
          ]
        }
      ]
    },
    {
      "cell_type": "code",
      "source": [
        "# Make the window of equal size\n",
        "dataset = tf.data.Dataset.range(10)\n",
        "window_dataset = dataset.window(size=5, shift=1, drop_remainder=True)\n",
        "\n",
        "for window_data in window_dataset:\n",
        "\n",
        "  print([val.numpy() for val in window_data])"
      ],
      "metadata": {
        "colab": {
          "base_uri": "https://localhost:8080/"
        },
        "id": "7R8hgsYo45-k",
        "outputId": "320448d4-01fc-4c59-dc9a-7b487e307468"
      },
      "execution_count": 4,
      "outputs": [
        {
          "output_type": "stream",
          "name": "stdout",
          "text": [
            "[0, 1, 2, 3, 4]\n",
            "[1, 2, 3, 4, 5]\n",
            "[2, 3, 4, 5, 6]\n",
            "[3, 4, 5, 6, 7]\n",
            "[4, 5, 6, 7, 8]\n",
            "[5, 6, 7, 8, 9]\n"
          ]
        }
      ]
    },
    {
      "cell_type": "markdown",
      "source": [
        "### Flatten the windows"
      ],
      "metadata": {
        "id": "LUluD78i7rNs"
      }
    },
    {
      "cell_type": "code",
      "source": [
        "dataset = tf.data.Dataset.range(10)\n",
        "window_dataset = dataset.window(size=5, shift=1, drop_remainder=True)\n",
        "\n",
        "# Flatten the windows by putting its elements in a single batch\n",
        "window_dataset = window_dataset.flat_map(lambda window: window.batch(5))\n",
        "\n",
        "for window in window_dataset:\n",
        "  print(window.numpy())"
      ],
      "metadata": {
        "colab": {
          "base_uri": "https://localhost:8080/"
        },
        "id": "fAJD0N_x6QLy",
        "outputId": "d7f7893c-fe30-43ec-b39d-86a3b8e42122"
      },
      "execution_count": 13,
      "outputs": [
        {
          "output_type": "stream",
          "name": "stdout",
          "text": [
            "[0 1 2 3 4]\n",
            "[1 2 3 4 5]\n",
            "[2 3 4 5 6]\n",
            "[3 4 5 6 7]\n",
            "[4 5 6 7 8]\n",
            "[5 6 7 8 9]\n"
          ]
        }
      ]
    },
    {
      "cell_type": "markdown",
      "source": [
        "### Group into features and labels"
      ],
      "metadata": {
        "id": "kv5qc82bACMH"
      }
    },
    {
      "cell_type": "code",
      "source": [
        "dataset = tf.data.Dataset.range(10)\n",
        "window_dataset = dataset.window(size=5, shift=1, drop_remainder=True)\n",
        "\n",
        "# Flatten the windows by putting its elements in a single batch\n",
        "window_dataset = window_dataset.flat_map(lambda window: window.batch(5))\n",
        "window_dataset = window_dataset.map(lambda window: (window[:-1], window[-1]))\n",
        "\n",
        "for x,y in window_dataset:\n",
        "  print(\"x = \", x.numpy())\n",
        "  print(\"y = \", y.numpy())"
      ],
      "metadata": {
        "colab": {
          "base_uri": "https://localhost:8080/"
        },
        "id": "EXXTH0rM8_oC",
        "outputId": "3d22cc54-353d-4086-a31d-cee572bcf86a"
      },
      "execution_count": 14,
      "outputs": [
        {
          "output_type": "stream",
          "name": "stdout",
          "text": [
            "x =  [0 1 2 3]\n",
            "y =  4\n",
            "x =  [1 2 3 4]\n",
            "y =  5\n",
            "x =  [2 3 4 5]\n",
            "y =  6\n",
            "x =  [3 4 5 6]\n",
            "y =  7\n",
            "x =  [4 5 6 7]\n",
            "y =  8\n",
            "x =  [5 6 7 8]\n",
            "y =  9\n"
          ]
        }
      ]
    },
    {
      "cell_type": "markdown",
      "source": [
        "### Shuffle the data"
      ],
      "metadata": {
        "id": "beex2_MkABnY"
      }
    },
    {
      "cell_type": "code",
      "source": [
        "dataset = tf.data.Dataset.range(10)\n",
        "window_dataset = dataset.window(size=5, shift=1, drop_remainder=True)\n",
        "\n",
        "# Flatten the windows by putting its elements in a single batch\n",
        "window_dataset = window_dataset.flat_map(lambda window: window.batch(5))\n",
        "window_dataset = window_dataset.map(lambda window: (window[:-1], window[-1]))\n",
        "\n",
        "window_dataset = window_dataset.shuffle(buffer_size=10)\n",
        "\n",
        "for x,y in window_dataset:\n",
        "  print(\"x = \", x.numpy())\n",
        "  print(\"y = \", y.numpy())"
      ],
      "metadata": {
        "colab": {
          "base_uri": "https://localhost:8080/"
        },
        "id": "m8y_lzY7BHpL",
        "outputId": "dffe28e8-4061-481a-b666-71a250b5b3a0"
      },
      "execution_count": 20,
      "outputs": [
        {
          "output_type": "stream",
          "name": "stdout",
          "text": [
            "x =  [4 5 6 7]\n",
            "y =  8\n",
            "x =  [3 4 5 6]\n",
            "y =  7\n",
            "x =  [2 3 4 5]\n",
            "y =  6\n",
            "x =  [5 6 7 8]\n",
            "y =  9\n",
            "x =  [0 1 2 3]\n",
            "y =  4\n",
            "x =  [1 2 3 4]\n",
            "y =  5\n"
          ]
        }
      ]
    },
    {
      "cell_type": "markdown",
      "source": [
        "### Create batches for training"
      ],
      "metadata": {
        "id": "iAK33YFgC_k5"
      }
    },
    {
      "cell_type": "code",
      "source": [
        "dataset = tf.data.Dataset.range(10)\n",
        "window_dataset = dataset.window(size=5, shift=1, drop_remainder=True)\n",
        "\n",
        "# Flatten the windows by putting its elements in a single batch\n",
        "window_dataset = window_dataset.flat_map(lambda window: window.batch(5))\n",
        "window_dataset = window_dataset.map(lambda window: (window[:-1], window[-1]))\n",
        "\n",
        "window_dataset = window_dataset.shuffle(buffer_size=10)\n",
        "\n",
        "window_dataset = window_dataset.batch(2).prefetch(1)\n",
        "\n",
        "for x,y in window_dataset:\n",
        "  print(\"x = \", x.numpy())\n",
        "\n",
        "  print(\"y = \", y.numpy())"
      ],
      "metadata": {
        "colab": {
          "base_uri": "https://localhost:8080/"
        },
        "id": "KyoCXyIhCtiG",
        "outputId": "46e104f2-3341-43bd-e17b-e6b0f7d00f27"
      },
      "execution_count": 21,
      "outputs": [
        {
          "output_type": "stream",
          "name": "stdout",
          "text": [
            "x =  [[2 3 4 5]\n",
            " [1 2 3 4]]\n",
            "y =  [6 5]\n",
            "x =  [[4 5 6 7]\n",
            " [5 6 7 8]]\n",
            "y =  [8 9]\n",
            "x =  [[3 4 5 6]\n",
            " [0 1 2 3]]\n",
            "y =  [7 4]\n"
          ]
        }
      ]
    },
    {
      "cell_type": "code",
      "source": [
        "# Generate the dataset\n",
        "data = tf.data.Dataset.range(20)\n",
        "\n",
        "# Split it to windows\n",
        "data = data.window(size=5, shift=1, drop_remainder=True)\n",
        "\n",
        "# Flatten the windows\n",
        "data = data.flat_map(lambda window: window.batch(5))\n",
        "\n",
        "# Generate features and labels\n",
        "data = data.map(lambda window: (window[:-1], window[-1]))\n",
        "\n",
        "# Shuffle the data\n",
        "data = data.shuffle(buffer_size=10)\n",
        "\n",
        "# Create batches for training with prefetch\n",
        "data = data.batch(2).prefetch(1)\n",
        "\n",
        "# Print the result\n",
        "for x,y in data:\n",
        "  print(\"x = \", x.numpy())\n",
        "  print(\"y =\", y.numpy())\n",
        ""
      ],
      "metadata": {
        "colab": {
          "base_uri": "https://localhost:8080/"
        },
        "id": "Y_IIbxw9IEVG",
        "outputId": "6f3d6a66-3ce3-43b1-def9-3c3c0d0e0b21"
      },
      "execution_count": 24,
      "outputs": [
        {
          "output_type": "stream",
          "name": "stdout",
          "text": [
            "x =  [[ 8  9 10 11]\n",
            " [10 11 12 13]]\n",
            "y = [12 14]\n",
            "x =  [[3 4 5 6]\n",
            " [5 6 7 8]]\n",
            "y = [7 9]\n",
            "x =  [[ 9 10 11 12]\n",
            " [13 14 15 16]]\n",
            "y = [13 17]\n",
            "x =  [[14 15 16 17]\n",
            " [15 16 17 18]]\n",
            "y = [18 19]\n",
            "x =  [[ 0  1  2  3]\n",
            " [11 12 13 14]]\n",
            "y = [ 4 15]\n",
            "x =  [[2 3 4 5]\n",
            " [1 2 3 4]]\n",
            "y = [6 5]\n",
            "x =  [[12 13 14 15]\n",
            " [ 4  5  6  7]]\n",
            "y = [16  8]\n",
            "x =  [[ 7  8  9 10]\n",
            " [ 6  7  8  9]]\n",
            "y = [11 10]\n"
          ]
        }
      ]
    },
    {
      "cell_type": "code",
      "source": [],
      "metadata": {
        "id": "CjFmqmmoKqC1"
      },
      "execution_count": null,
      "outputs": []
    }
  ]
}