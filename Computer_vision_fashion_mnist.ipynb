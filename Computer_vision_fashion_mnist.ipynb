{
  "nbformat": 4,
  "nbformat_minor": 0,
  "metadata": {
    "colab": {
      "provenance": [],
      "authorship_tag": "ABX9TyMTyxDiYOSYpKZwvTe4zd7B",
      "include_colab_link": true
    },
    "kernelspec": {
      "name": "python3",
      "display_name": "Python 3"
    },
    "language_info": {
      "name": "python"
    }
  },
  "cells": [
    {
      "cell_type": "markdown",
      "metadata": {
        "id": "view-in-github",
        "colab_type": "text"
      },
      "source": [
        "<a href=\"https://colab.research.google.com/github/sodiq-sulaimon/Preparations-for-TensorFlow-Developer-Certification/blob/main/Computer_vision_fashion_mnist.ipynb\" target=\"_parent\"><img src=\"https://colab.research.google.com/assets/colab-badge.svg\" alt=\"Open In Colab\"/></a>"
      ]
    },
    {
      "cell_type": "code",
      "execution_count": 1,
      "metadata": {
        "colab": {
          "base_uri": "https://localhost:8080/"
        },
        "id": "5KfTakmDzLye",
        "outputId": "1a5adf01-843a-4ad0-f9e8-cbb6bf8eb8aa"
      },
      "outputs": [
        {
          "output_type": "stream",
          "name": "stdout",
          "text": [
            "2.13.0\n"
          ]
        }
      ],
      "source": [
        "# Import the required library\n",
        "\n",
        "import tensorflow as tf\n",
        "import numpy as np\n",
        "import matplotlib.pyplot as plt\n",
        "\n",
        "\n",
        "print(tf.__version__)"
      ]
    },
    {
      "cell_type": "code",
      "source": [
        "# Load the Fashion MNIST dataset\n",
        "fmnist = tf.keras.datasets.fashion_mnist\n",
        "\n",
        "(training_images, training_labels), (test_images, test_labels) = fmnist.load_data()"
      ],
      "metadata": {
        "id": "xRHN2cHJzl3J"
      },
      "execution_count": 2,
      "outputs": []
    },
    {
      "cell_type": "code",
      "source": [
        "# Let's see what the training images look like as numpy arrays and images\n",
        "\n",
        "# The index can be changed to see different images (0 to 6999)\n",
        "index = 35\n",
        "\n",
        "# Set the number of character per row when printing\n",
        "np.set_printoptions(linewidth=320)\n",
        "\n",
        "# Print the label and image\n",
        "print(f\"LABEL: {training_labels[index]}\")\n",
        "print(f\"\\nIMAGE PIXEL ARRAY: \\n{training_images[index]}\")\n",
        "\n",
        "plt.imshow(training_images[index], cmap='gray')\n"
      ],
      "metadata": {
        "colab": {
          "base_uri": "https://localhost:8080/",
          "height": 974
        },
        "id": "vdthC7_h1AVe",
        "outputId": "e77523d7-095e-4f5a-8679-8976fa193521"
      },
      "execution_count": 3,
      "outputs": [
        {
          "output_type": "stream",
          "name": "stdout",
          "text": [
            "LABEL: 8\n",
            "\n",
            "IMAGE PIXEL ARRAY: \n",
            "[[  0   0   0   0   0   0   0   0   0   0   0   4   0  37 198   6   0   0   0   0   0   0   0   0   0   0   0   0]\n",
            " [  0   0   0   0   0   0   0   0   0   0   2   0   8  98  41 113   0   2   0   0   0   0   0   0   0   0   0   0]\n",
            " [  0   0   0   0   0   0   0   0   0   0   2   0  76  82   0 202   0   0   0   0   0   0   0   0   0   0   0   0]\n",
            " [  0   0   0   0   0   0   0   0   0   0   4   0 139  43   0 193  32   0   2   0   0   0   0   0   0   0   0   0]\n",
            " [  0   0   0   0   0   0   0   0   0   0   0   0 172   0   0 111  82   0   2   0   0   0   0   0   0   0   0   0]\n",
            " [  0   0   0   0   0   0   0   0   0   4   0  61 139   0   0  43 115   0   4   0   0   0   2   0   0   0   0   0]\n",
            " [  0   0   0   0   0   0   0   0   0   6   0 143  82   0   0   0 122   0   2   4   0   2   0   0   0   0   0   0]\n",
            " [  0   0   0   0   0   0   0   0   0   0   0 198   8   0   0   0 108  39   0   4   0   0   0   0   0   0   0   0]\n",
            " [  0   0   0   0   0   0   0   0   0   0  43 202   0   0   2   0  93  98   0   2   2   0   0   0   0   0   0   0]\n",
            " [  0   0   0   0   0   0   0   0   0   0 135 143   0   2   0   0  52 148   0   0   0   0   2   0   2   0   0   0]\n",
            " [  0   0   0   0   0   0   0   0   0   0 211  21   0   0   0   0   2 187   0   0   0   0   0   0   0   0   0   0]\n",
            " [  0   0   0  50  58  71  63  58  17 176 254  41  65  43  30  17  32 154  23  34  41  50  58  78  32   0   0   0]\n",
            " [  0   0   0  82 106  95  87  80  58 187 209 106  74  82  76  87  76 141  91  65  80  89  91 122  61   0   0   0]\n",
            " [  0   0   0  63  89  65  61  74  34 161 189  65  61  67  63  71  74 119 100  76  84  78  71 111  56   0   0   0]\n",
            " [  0   0   0  63  89  74  74  84  50 146 128  91  78  71  65  65  50 143 135  58  87  80  74 102  65   0   0   0]\n",
            " [  0   0   0  71 113  87  89  91  56 128 161 130  67  69  76  87  78  98 106  80 104 106 100 104  54   0   0   0]\n",
            " [  0   0   0  50  95  78  84  89  84  67 189 163  56  65  78  80  91  78  80  78  82  93  87 108  45   0   0   0]\n",
            " [  0   0   0  54 108  87  84  93  76  89 220 196 106  82  91  89  93  91  91  84  89  91  76 102  39   0   0   0]\n",
            " [  0   0   0  43 115  91  91 102  82  91 215 207 128  87 102  95  95  91  91  98  82  82  87 104  32   0   0   0]\n",
            " [  0   0   0  28 100  93  93 106  87  95 213 217 150  89 102  93 100  98 100  95  93  82  76 102  43   0   0   0]\n",
            " [  0   0   0  63 115 108  98 108  91 132 228 220 183 108 104 113 111 106 102 104 102  87  80  84  47   0   0   0]\n",
            " [  0   0   0  91 185 154 150 148 126 156 204 217 180 137 139 141 137 130 150 146 139 139 124 119  65   0   0   0]\n",
            " [  0   0   0  67 172 137 143 139 135 135 165 150 119 139 132 128 135 130 126 128 137 119 113 137  74   0   0   0]\n",
            " [  0   0   0  61 143 119 117 122 122 135 163 156 135 137 143 139 137 143 130 135 141 128 130 135  82   0   0   0]\n",
            " [  0   0   0  39 150 119 122 124 137 150 143 154 139 132 143 143 143 152 152 156 159 148 148 165  41   0   0   0]\n",
            " [  0   0   0   0 150 161 128 128 128 139 143 141 143 143 141 139 139 148 150 146 150 143 154 163   0   0   0   0]\n",
            " [  0   0   0   0  32 154 167 156 159 148 150 154 163 169 169 169 167 161 159 152 165 169 146  23   0   0   0   0]\n",
            " [  0   0   0   0   0   2  67  91 130 130 137 143 143 124 111 104 106 106 111 126 115  93   0   0   0   0   0   0]]\n"
          ]
        },
        {
          "output_type": "execute_result",
          "data": {
            "text/plain": [
              "<matplotlib.image.AxesImage at 0x7f1bc0fa8520>"
            ]
          },
          "metadata": {},
          "execution_count": 3
        },
        {
          "output_type": "display_data",
          "data": {
            "text/plain": [
              "<Figure size 640x480 with 1 Axes>"
            ],
            "image/png": "[encoded data removed]"
          },
          "metadata": {}
        }
      ]
    },
    {
      "cell_type": "code",
      "source": [
        "# The pixel values are between 0 and 255.\n",
        "# Normalize the training and test pixel values to value values ranging from 0 to 1\n",
        "training_images = training_images / 255.0\n",
        "test_images = test_images / 255.0"
      ],
      "metadata": {
        "id": "4zyk45x2DWDJ"
      },
      "execution_count": 4,
      "outputs": []
    },
    {
      "cell_type": "code",
      "source": [
        "# Build the classification model\n",
        "model = tf.keras.models.Sequential([\n",
        "    tf.keras.layers.Flatten(),\n",
        "    tf.keras.layers.Dense(units=128, activation=\"relu\"),\n",
        "    tf.keras.layers.Dense(units=10, activation=\"softmax\")\n",
        "\n",
        "])"
      ],
      "metadata": {
        "id": "5C_SAIvpF4c9"
      },
      "execution_count": 5,
      "outputs": []
    },
    {
      "cell_type": "code",
      "source": [
        "# Declare sample inputs and convert to tensor\n",
        "inputs = np.array([[1.0, 3.0, 4.0, 2.0]])\n",
        "inputs = tf.convert_to_tensor(inputs)\n",
        "print(f\"Input to softmax function: {inputs.numpy()}\")"
      ],
      "metadata": {
        "colab": {
          "base_uri": "https://localhost:8080/"
        },
        "id": "NK5NI_jjHd4W",
        "outputId": "c81d56cc-0f1b-4dd4-e73a-dd2d5695d06d"
      },
      "execution_count": 6,
      "outputs": [
        {
          "output_type": "stream",
          "name": "stdout",
          "text": [
            "Input to softmax function: [[1. 3. 4. 2.]]\n"
          ]
        }
      ]
    },
    {
      "cell_type": "code",
      "source": [
        "# Feed the input to a softmax activation\n",
        "outputs = tf.keras.activations.softmax(inputs)\n",
        "print(f\"Output of the softmax activation: {outputs.numpy()}\")"
      ],
      "metadata": {
        "colab": {
          "base_uri": "https://localhost:8080/"
        },
        "id": "GhviNKO2IH44",
        "outputId": "fe4382b5-a658-4be9-e84b-79ed5f0300e9"
      },
      "execution_count": 7,
      "outputs": [
        {
          "output_type": "stream",
          "name": "stdout",
          "text": [
            "Output of the softmax activation: [[0.0320586  0.23688282 0.64391426 0.08714432]]\n"
          ]
        }
      ]
    },
    {
      "cell_type": "code",
      "source": [
        "# Get the sum of all values after the softmax\n",
        "sum_vals = tf.reduce_sum(outputs)\n",
        "print(f\"Sum of outputs: {sum_vals}\")"
      ],
      "metadata": {
        "colab": {
          "base_uri": "https://localhost:8080/"
        },
        "id": "zN9MTE74IcCN",
        "outputId": "445b6769-3c37-4d0e-954e-b4244e09b353"
      },
      "execution_count": 8,
      "outputs": [
        {
          "output_type": "stream",
          "name": "stdout",
          "text": [
            "Sum of outputs: 1.0\n"
          ]
        }
      ]
    },
    {
      "cell_type": "code",
      "source": [
        "# Get the index with the maximun value\n",
        "prediction = np.argmax(outputs)\n",
        "print(f\"Class with highest probability: {prediction}\")"
      ],
      "metadata": {
        "colab": {
          "base_uri": "https://localhost:8080/"
        },
        "id": "HgvcXyieJDVY",
        "outputId": "ea161926-201c-43e8-e65e-5ab3f1f3237f"
      },
      "execution_count": 9,
      "outputs": [
        {
          "output_type": "stream",
          "name": "stdout",
          "text": [
            "Class with highest probability: 2\n"
          ]
        }
      ]
    },
    {
      "cell_type": "code",
      "source": [
        "# Compile the model\n",
        "model.compile(optimizer=tf.keras.optimizers.Adam(),\n",
        "              loss=\"sparse_categorical_crossentropy\",\n",
        "              metrics= [\"accuracy\"])"
      ],
      "metadata": {
        "id": "nlYXSOFMJgAG"
      },
      "execution_count": 10,
      "outputs": []
    },
    {
      "cell_type": "code",
      "source": [
        "# Train the model\n",
        "model.fit(training_images, training_labels, epochs=5)"
      ],
      "metadata": {
        "colab": {
          "base_uri": "https://localhost:8080/"
        },
        "id": "jCN3lLjkKUeq",
        "outputId": "38e37261-b4d7-422e-a7a6-051e56804178"
      },
      "execution_count": 12,
      "outputs": [
        {
          "output_type": "stream",
          "name": "stdout",
          "text": [
            "Epoch 1/5\n",
            "1875/1875 [==============================] - 11s 5ms/step - loss: 0.5011 - accuracy: 0.8242\n",
            "Epoch 2/5\n",
            "1875/1875 [==============================] - 9s 5ms/step - loss: 0.3756 - accuracy: 0.8651\n",
            "Epoch 3/5\n",
            "1875/1875 [==============================] - 5s 3ms/step - loss: 0.3371 - accuracy: 0.8769\n",
            "Epoch 4/5\n",
            "1875/1875 [==============================] - 6s 3ms/step - loss: 0.3139 - accuracy: 0.8853\n",
            "Epoch 5/5\n",
            "1875/1875 [==============================] - 5s 3ms/step - loss: 0.2960 - accuracy: 0.8900\n"
          ]
        },
        {
          "output_type": "execute_result",
          "data": {
            "text/plain": [
              "<keras.src.callbacks.History at 0x7f1bbe3b1720>"
            ]
          },
          "metadata": {},
          "execution_count": 12
        }
      ]
    },
    {
      "cell_type": "code",
      "source": [
        "# Evaluate the model on unseen data\n",
        "model.evaluate(test_images, test_labels)"
      ],
      "metadata": {
        "colab": {
          "base_uri": "https://localhost:8080/"
        },
        "id": "GavFSXL8KmSN",
        "outputId": "089d645f-5c6d-4e2e-a82e-ed89368cfeb4"
      },
      "execution_count": 13,
      "outputs": [
        {
          "output_type": "stream",
          "name": "stdout",
          "text": [
            "313/313 [==============================] - 1s 2ms/step - loss: 0.3598 - accuracy: 0.8728\n"
          ]
        },
        {
          "output_type": "execute_result",
          "data": {
            "text/plain": [
              "[0.35980352759361267, 0.8727999925613403]"
            ]
          },
          "metadata": {},
          "execution_count": 13
        }
      ]
    },
    {
      "cell_type": "code",
      "source": [
        "# Exercises\n",
        "classifications = model.predict(test_images)"
      ],
      "metadata": {
        "colab": {
          "base_uri": "https://localhost:8080/"
        },
        "id": "QhXNzldFLZkA",
        "outputId": "f9703082-ccde-48ff-8b6a-511e2ebf71b4"
      },
      "execution_count": 14,
      "outputs": [
        {
          "output_type": "stream",
          "name": "stdout",
          "text": [
            "313/313 [==============================] - 1s 2ms/step\n"
          ]
        }
      ]
    },
    {
      "cell_type": "code",
      "source": [
        "print(classifications[600])\n",
        "print(f\"Model prediction: {np.argmax(classifications[600])}\")\n",
        "print(f\"Actual label: {test_labels[600]}\")"
      ],
      "metadata": {
        "colab": {
          "base_uri": "https://localhost:8080/"
        },
        "id": "NiYkLyx7L-Eq",
        "outputId": "b9565c35-621b-4f51-c72a-5e96c352d8b9"
      },
      "execution_count": 15,
      "outputs": [
        {
          "output_type": "stream",
          "name": "stdout",
          "text": [
            "[2.3888467e-02 5.2354106e-04 5.9746408e-01 1.2197865e-02 1.1064724e-01 2.2395384e-04 2.5176322e-01 1.6062870e-05 3.2657939e-03 9.7787488e-06]\n",
            "Model prediction: 2\n",
            "Actual label: 2\n"
          ]
        }
      ]
    },
    {
      "cell_type": "code",
      "source": [],
      "metadata": {
        "id": "hmLMM7sOM3xa"
      },
      "execution_count": 16,
      "outputs": []
    },
    {
      "cell_type": "code",
      "source": [],
      "metadata": {
        "id": "cfwGMNaZQn8W"
      },
      "execution_count": null,
      "outputs": []
    }
  ]
}