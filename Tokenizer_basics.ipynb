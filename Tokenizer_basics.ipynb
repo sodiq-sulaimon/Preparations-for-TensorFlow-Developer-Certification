{
  "nbformat": 4,
  "nbformat_minor": 0,
  "metadata": {
    "colab": {
      "provenance": [],
      "authorship_tag": "ABX9TyOKpqqOhDqERwiJUX0bXBH2",
      "include_colab_link": true
    },
    "kernelspec": {
      "name": "python3",
      "display_name": "Python 3"
    },
    "language_info": {
      "name": "python"
    }
  },
  "cells": [
    {
      "cell_type": "markdown",
      "metadata": {
        "id": "view-in-github",
        "colab_type": "text"
      },
      "source": [
        "<a href=\"https://colab.research.google.com/github/sodiq-sulaimon/Preparations-for-TensorFlow-Developer-Certification/blob/NLP/Tokenizer_basics.ipynb\" target=\"_parent\"><img src=\"https://colab.research.google.com/assets/colab-badge.svg\" alt=\"Open In Colab\"/></a>"
      ]
    },
    {
      "cell_type": "markdown",
      "source": [
        "# Tokenizer Basics\n",
        "\n",
        "Preparing the data to extract a vocabulary from a corpus of words and defining how to represent the texts into numerical representations which can be used to train a neural network. These representations are called tokens."
      ],
      "metadata": {
        "id": "W0Efyv4x56Cs"
      }
    },
    {
      "cell_type": "markdown",
      "source": [
        "### Generating the vocalubary"
      ],
      "metadata": {
        "id": "6QOaysiL55M4"
      }
    },
    {
      "cell_type": "code",
      "source": [
        "from tensorflow.keras.preprocessing.text import Tokenizer\n",
        "\n",
        "# Define input sentences\n",
        "sentences = [\n",
        "    'I love my cat',\n",
        "    'i love my dog', # using lowercase for i to show that the Tokenizer is case insensitive by default\n",
        "    'You love my dog!'\n",
        "]\n",
        "\n",
        "# Initialize the Tokenizer class\n",
        "tokenizer = Tokenizer(num_words=100)\n",
        "\n",
        "# Map each word in the corpus to an index\n",
        "tokenizer.fit_on_texts(sentences)\n",
        "\n",
        "# Get the indices and print it\n",
        "word_idx = tokenizer.word_index\n",
        "print(word_idx)\n"
      ],
      "metadata": {
        "colab": {
          "base_uri": "https://localhost:8080/"
        },
        "id": "fPg_NaaK6-OE",
        "outputId": "ac8c925b-a483-47b6-db0c-068d3b20ec69"
      },
      "execution_count": 9,
      "outputs": [
        {
          "output_type": "stream",
          "name": "stdout",
          "text": [
            "{'love': 1, 'my': 2, 'i': 3, 'dog': 4, 'ca': 5, 't': 6, 'you': 7}\n"
          ]
        }
      ]
    },
    {
      "cell_type": "code",
      "source": [
        "# Playing around with the Tokenizer parameters\n",
        "sentences = [\n",
        "    'I love my cat',\n",
        "    'i love /my dog',\n",
        "    'You ?love my dog!'\n",
        "]\n",
        "\n",
        "# Initialize the Tokenizer class\n",
        "tokenizer = Tokenizer(num_words=1, lower= False, filters='?')\n",
        "\n",
        "# Map each word in the corpus to an index\n",
        "tokenizer.fit_on_texts(sentences)\n",
        "\n",
        "# Get the indices and print it\n",
        "word_idx = tokenizer.word_index\n",
        "print(word_idx)"
      ],
      "metadata": {
        "colab": {
          "base_uri": "https://localhost:8080/"
        },
        "id": "Atfz2hS079B1",
        "outputId": "3ff8a0dd-9738-4a49-ccef-08a0fcac284b"
      },
      "execution_count": 14,
      "outputs": [
        {
          "output_type": "stream",
          "name": "stdout",
          "text": [
            "{'love': 1, 'my': 2, 'I': 3, 'cat': 4, 'i': 5, '/my': 6, 'dog': 7, 'You': 8, 'dog!': 9}\n"
          ]
        }
      ]
    },
    {
      "cell_type": "markdown",
      "source": [
        "# Generating Sequences and Padding\n",
        "\n",
        "Converting the input texts into sequence of tokens"
      ],
      "metadata": {
        "id": "7aOcEzSaHYlz"
      }
    },
    {
      "cell_type": "markdown",
      "source": [
        "### Text to Sequences\n",
        "Use the result of the tokens generated to create sequence of tokens for the texts"
      ],
      "metadata": {
        "id": "QsJgm9hoHVnj"
      }
    },
    {
      "cell_type": "code",
      "source": [
        "from tensorflow.keras.preprocessing.text import Tokenizer\n",
        "from tensorflow.keras.preprocessing.sequence import pad_sequences\n",
        "\n",
        "# Define input sentences\n",
        "sentences = [\n",
        "    'I love my cat',\n",
        "    'I love my dog',\n",
        "    'You love my dog!',\n",
        "    'Do you think my dog is amazing?'\n",
        "]\n",
        "\n",
        "# Initialize the Tokenizer class\n",
        "tokenizer = Tokenizer(num_words=100, oov_token='<OOV>')\n",
        "\n",
        "# Map each word in the corpus to an index\n",
        "tokenizer.fit_on_texts(sentences)\n",
        "\n",
        "# Get the indices and print it\n",
        "word_idx = tokenizer.word_index\n",
        "\n",
        "# Generate list of token sequences\n",
        "sequences = tokenizer.texts_to_sequences(sentences)\n",
        "\n",
        "print('\\nWord Index:', word_idx)\n",
        "print('\\nSeqeunces:', sequences)\n"
      ],
      "metadata": {
        "colab": {
          "base_uri": "https://localhost:8080/"
        },
        "id": "ayqv0k6AC_x5",
        "outputId": "9b25d97c-bb49-45c2-ae5c-46c01bf4e40c"
      },
      "execution_count": 34,
      "outputs": [
        {
          "output_type": "stream",
          "name": "stdout",
          "text": [
            "\n",
            "Word Index: {'<OOV>': 1, 'my': 2, 'love': 3, 'dog': 4, 'i': 5, 'you': 6, 'cat': 7, 'do': 8, 'think': 9, 'is': 10, 'amazing': 11}\n",
            "\n",
            "Seqeunces: [[5, 3, 2, 7], [5, 3, 2, 4], [6, 3, 2, 4], [8, 6, 9, 2, 4, 10, 11]]\n"
          ]
        }
      ]
    },
    {
      "cell_type": "markdown",
      "source": [
        "### Padding\n",
        "The sequences has to be padded to a uniform length to be fed into a deep learning model"
      ],
      "metadata": {
        "id": "nJbL-8nxJFyG"
      }
    },
    {
      "cell_type": "code",
      "source": [
        "padded = pad_sequences(sequences=sequences, padding='post', truncating='post', maxlen=5)\n",
        "\n",
        "print('\\nPadded sequences:')\n",
        "print(padded)"
      ],
      "metadata": {
        "colab": {
          "base_uri": "https://localhost:8080/"
        },
        "id": "de7qpu65IyDs",
        "outputId": "b695e5c8-c030-45c9-8b04-37a944127384"
      },
      "execution_count": 35,
      "outputs": [
        {
          "output_type": "stream",
          "name": "stdout",
          "text": [
            "\n",
            "Padded sequences:\n",
            "[[5 3 2 7 0]\n",
            " [5 3 2 4 0]\n",
            " [6 3 2 4 0]\n",
            " [8 6 9 2 4]]\n"
          ]
        }
      ]
    },
    {
      "cell_type": "markdown",
      "source": [
        "### Out of vocabulary tokens\n",
        "This will be used when you have input words that are not found in the word_index dictionary"
      ],
      "metadata": {
        "id": "8Z6cPVXNKHkK"
      }
    },
    {
      "cell_type": "code",
      "source": [
        "# Trying with the word the tokenizer wasn't fit to\n",
        "\n",
        "test_data = [\n",
        "    'I really love my dog',\n",
        "    'My dog loves my manatee'\n",
        "]\n",
        "\n",
        "test_seq = tokenizer.texts_to_sequences(test_data)\n",
        "\n",
        "print('Test sequence:', test_seq)\n",
        "\n",
        "padded_test = pad_sequences(test_seq, padding='post')\n",
        "print('\\nPadded test sequence:')\n",
        "print(padded_test)"
      ],
      "metadata": {
        "colab": {
          "base_uri": "https://localhost:8080/"
        },
        "id": "VKDIIMWLJdFA",
        "outputId": "a27f8b35-d4cc-497a-cd40-a5ce68d33a93"
      },
      "execution_count": 41,
      "outputs": [
        {
          "output_type": "stream",
          "name": "stdout",
          "text": [
            "Test sequence: [[5, 1, 3, 2, 4], [2, 4, 1, 2, 1]]\n",
            "\n",
            "Padded test sequence:\n",
            "[[5 1 3 2 4]\n",
            " [2 4 1 2 1]]\n"
          ]
        }
      ]
    },
    {
      "cell_type": "code",
      "source": [],
      "metadata": {
        "id": "B5arISOlJjkk"
      },
      "execution_count": null,
      "outputs": []
    }
  ]
}