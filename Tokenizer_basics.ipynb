{
  "nbformat": 4,
  "nbformat_minor": 0,
  "metadata": {
    "colab": {
      "provenance": [],
      "authorship_tag": "ABX9TyMOL8DHzNel3yyX+j3DCKXp",
      "include_colab_link": true
    },
    "kernelspec": {
      "name": "python3",
      "display_name": "Python 3"
    },
    "language_info": {
      "name": "python"
    }
  },
  "cells": [
    {
      "cell_type": "markdown",
      "metadata": {
        "id": "view-in-github",
        "colab_type": "text"
      },
      "source": [
        "<a href=\"https://colab.research.google.com/github/sodiq-sulaimon/Preparations-for-TensorFlow-Developer-Certification/blob/NLP/Tokenizer_basics.ipynb\" target=\"_parent\"><img src=\"https://colab.research.google.com/assets/colab-badge.svg\" alt=\"Open In Colab\"/></a>"
      ]
    },
    {
      "cell_type": "markdown",
      "source": [
        "# Tokenizer Basics\n",
        "\n",
        "Preparing the data to extract a vocabulary from a corpus of words and defining how to represent the texts into numerical representations which can be used to train a neural network. These representations are called tokens."
      ],
      "metadata": {
        "id": "W0Efyv4x56Cs"
      }
    },
    {
      "cell_type": "markdown",
      "source": [
        "### Generating the vocalubary"
      ],
      "metadata": {
        "id": "6QOaysiL55M4"
      }
    },
    {
      "cell_type": "code",
      "source": [
        "from tensorflow.keras.preprocessing.text import Tokenizer\n",
        "\n",
        "# Define input sentences\n",
        "sentences = [\n",
        "    'I love my cat',\n",
        "    'i love my dog', # using lowercase for i to show that the Tokenizer is case insensitive by default\n",
        "    'You love my dog!'\n",
        "]\n",
        "\n",
        "# Initialize the Tokenizer class\n",
        "tokenizer = Tokenizer(num_words=100)\n",
        "\n",
        "# Map each word in the corpus to an index\n",
        "tokenizer.fit_on_texts(sentences)\n",
        "\n",
        "# Get the indices and print it\n",
        "word_idx = tokenizer.word_index\n",
        "print(word_idx)\n"
      ],
      "metadata": {
        "colab": {
          "base_uri": "https://localhost:8080/"
        },
        "id": "fPg_NaaK6-OE",
        "outputId": "ac8c925b-a483-47b6-db0c-068d3b20ec69"
      },
      "execution_count": 9,
      "outputs": [
        {
          "output_type": "stream",
          "name": "stdout",
          "text": [
            "{'love': 1, 'my': 2, 'i': 3, 'dog': 4, 'ca': 5, 't': 6, 'you': 7}\n"
          ]
        }
      ]
    },
    {
      "cell_type": "code",
      "source": [
        "# Playing around with the Tokenizer parameters\n",
        "sentences = [\n",
        "    'I love my cat',\n",
        "    'i love /my dog',\n",
        "    'You ?love my dog!'\n",
        "]\n",
        "\n",
        "# Initialize the Tokenizer class\n",
        "tokenizer = Tokenizer(num_words=1, lower= False, filters='?')\n",
        "\n",
        "# Map each word in the corpus to an index\n",
        "tokenizer.fit_on_texts(sentences)\n",
        "\n",
        "# Get the indices and print it\n",
        "word_idx = tokenizer.word_index\n",
        "print(word_idx)"
      ],
      "metadata": {
        "colab": {
          "base_uri": "https://localhost:8080/"
        },
        "id": "Atfz2hS079B1",
        "outputId": "3ff8a0dd-9738-4a49-ccef-08a0fcac284b"
      },
      "execution_count": 14,
      "outputs": [
        {
          "output_type": "stream",
          "name": "stdout",
          "text": [
            "{'love': 1, 'my': 2, 'I': 3, 'cat': 4, 'i': 5, '/my': 6, 'dog': 7, 'You': 8, 'dog!': 9}\n"
          ]
        }
      ]
    },
    {
      "cell_type": "code",
      "source": [],
      "metadata": {
        "id": "icAEmCjs9oua"
      },
      "execution_count": null,
      "outputs": []
    }
  ]
}